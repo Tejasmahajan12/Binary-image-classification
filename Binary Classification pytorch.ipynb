{
 "cells": [
  {
   "cell_type": "code",
   "execution_count": 1,
   "id": "339e7150",
   "metadata": {},
   "outputs": [
    {
     "name": "stdout",
     "output_type": "stream",
     "text": [
      "Requirement already satisfied: pandas in ./Aditi1/lib/python3.6/site-packages\n",
      "Requirement already satisfied: pytz>=2017.2 in ./Aditi1/lib/python3.6/site-packages (from pandas)\n",
      "Requirement already satisfied: numpy>=1.15.4 in ./Aditi1/lib/python3.6/site-packages (from pandas)\n",
      "Requirement already satisfied: python-dateutil>=2.7.3 in ./Aditi1/lib/python3.6/site-packages (from pandas)\n",
      "Requirement already satisfied: six>=1.5 in ./Aditi1/lib/python3.6/site-packages (from python-dateutil>=2.7.3->pandas)\n"
     ]
    }
   ],
   "source": [
    "!pip install pandas"
   ]
  },
  {
   "cell_type": "code",
   "execution_count": 2,
   "id": "54f47469",
   "metadata": {},
   "outputs": [
    {
     "name": "stdout",
     "output_type": "stream",
     "text": [
      "Requirement already satisfied: seaborn in ./Aditi1/lib/python3.6/site-packages\n",
      "Requirement already satisfied: numpy>=1.15 in ./Aditi1/lib/python3.6/site-packages (from seaborn)\n",
      "Requirement already satisfied: scipy>=1.0 in ./Aditi1/lib/python3.6/site-packages (from seaborn)\n",
      "Requirement already satisfied: matplotlib>=2.2 in ./Aditi1/lib/python3.6/site-packages (from seaborn)\n",
      "Requirement already satisfied: pandas>=0.23 in ./Aditi1/lib/python3.6/site-packages (from seaborn)\n",
      "Requirement already satisfied: kiwisolver>=1.0.1 in ./Aditi1/lib/python3.6/site-packages (from matplotlib>=2.2->seaborn)\n",
      "Requirement already satisfied: pillow>=6.2.0 in ./Aditi1/lib/python3.6/site-packages (from matplotlib>=2.2->seaborn)\n",
      "Requirement already satisfied: cycler>=0.10 in ./Aditi1/lib/python3.6/site-packages (from matplotlib>=2.2->seaborn)\n",
      "Requirement already satisfied: python-dateutil>=2.1 in ./Aditi1/lib/python3.6/site-packages (from matplotlib>=2.2->seaborn)\n",
      "Requirement already satisfied: pyparsing!=2.0.4,!=2.1.2,!=2.1.6,>=2.0.3 in ./Aditi1/lib/python3.6/site-packages (from matplotlib>=2.2->seaborn)\n",
      "Requirement already satisfied: pytz>=2017.2 in ./Aditi1/lib/python3.6/site-packages (from pandas>=0.23->seaborn)\n",
      "Requirement already satisfied: six in ./Aditi1/lib/python3.6/site-packages (from cycler>=0.10->matplotlib>=2.2->seaborn)\n"
     ]
    }
   ],
   "source": [
    "!pip install seaborn\n"
   ]
  },
  {
   "cell_type": "code",
   "execution_count": 3,
   "id": "de486e2f",
   "metadata": {
    "scrolled": true
   },
   "outputs": [
    {
     "name": "stdout",
     "output_type": "stream",
     "text": [
      "Requirement already satisfied: matplotlib in ./Aditi1/lib/python3.6/site-packages\n",
      "Requirement already satisfied: numpy>=1.15 in ./Aditi1/lib/python3.6/site-packages (from matplotlib)\n",
      "Requirement already satisfied: kiwisolver>=1.0.1 in ./Aditi1/lib/python3.6/site-packages (from matplotlib)\n",
      "Requirement already satisfied: cycler>=0.10 in ./Aditi1/lib/python3.6/site-packages (from matplotlib)\n",
      "Requirement already satisfied: python-dateutil>=2.1 in ./Aditi1/lib/python3.6/site-packages (from matplotlib)\n",
      "Requirement already satisfied: pyparsing!=2.0.4,!=2.1.2,!=2.1.6,>=2.0.3 in ./Aditi1/lib/python3.6/site-packages (from matplotlib)\n",
      "Requirement already satisfied: pillow>=6.2.0 in ./Aditi1/lib/python3.6/site-packages (from matplotlib)\n",
      "Requirement already satisfied: six in ./Aditi1/lib/python3.6/site-packages (from cycler>=0.10->matplotlib)\n"
     ]
    }
   ],
   "source": [
    "!pip install matplotlib"
   ]
  },
  {
   "cell_type": "code",
   "execution_count": 4,
   "id": "8577922b",
   "metadata": {},
   "outputs": [
    {
     "name": "stdout",
     "output_type": "stream",
     "text": [
      "Requirement already satisfied: sklearn in ./Aditi1/lib/python3.6/site-packages\n",
      "Requirement already satisfied: scikit-learn in ./Aditi1/lib/python3.6/site-packages (from sklearn)\n",
      "Requirement already satisfied: numpy>=1.13.3 in ./Aditi1/lib/python3.6/site-packages (from scikit-learn->sklearn)\n",
      "Requirement already satisfied: scipy>=0.19.1 in ./Aditi1/lib/python3.6/site-packages (from scikit-learn->sklearn)\n",
      "Requirement already satisfied: joblib>=0.11 in ./Aditi1/lib/python3.6/site-packages (from scikit-learn->sklearn)\n",
      "Requirement already satisfied: threadpoolctl>=2.0.0 in ./Aditi1/lib/python3.6/site-packages (from scikit-learn->sklearn)\n"
     ]
    }
   ],
   "source": [
    "!pip install sklearn"
   ]
  },
  {
   "cell_type": "code",
   "execution_count": 5,
   "id": "c1e34fdb",
   "metadata": {},
   "outputs": [],
   "source": [
    "import numpy as np\n",
    "import pandas as pd\n",
    "import seaborn as sns\n",
    "import matplotlib.pyplot as plt"
   ]
  },
  {
   "cell_type": "code",
   "execution_count": 6,
   "id": "d72fd28f",
   "metadata": {},
   "outputs": [],
   "source": [
    "import torch\n",
    "import torch.nn as nn\n",
    "import torch.optim as optim\n",
    "from torch.utils.data import Dataset, DataLoader"
   ]
  },
  {
   "cell_type": "code",
   "execution_count": 7,
   "id": "e80186e5",
   "metadata": {},
   "outputs": [
    {
     "data": {
      "text/html": [
       "<div>\n",
       "<style scoped>\n",
       "    .dataframe tbody tr th:only-of-type {\n",
       "        vertical-align: middle;\n",
       "    }\n",
       "\n",
       "    .dataframe tbody tr th {\n",
       "        vertical-align: top;\n",
       "    }\n",
       "\n",
       "    .dataframe thead th {\n",
       "        text-align: right;\n",
       "    }\n",
       "</style>\n",
       "<table border=\"1\" class=\"dataframe\">\n",
       "  <thead>\n",
       "    <tr style=\"text-align: right;\">\n",
       "      <th></th>\n",
       "      <th>Col1</th>\n",
       "      <th>Col2</th>\n",
       "      <th>Col3</th>\n",
       "      <th>Col4</th>\n",
       "      <th>Col5</th>\n",
       "      <th>Col6</th>\n",
       "      <th>Col7</th>\n",
       "      <th>Col8</th>\n",
       "      <th>Col9</th>\n",
       "      <th>Col10</th>\n",
       "      <th>Col11</th>\n",
       "      <th>Col12</th>\n",
       "      <th>Class_att</th>\n",
       "      <th>Unnamed: 13</th>\n",
       "    </tr>\n",
       "  </thead>\n",
       "  <tbody>\n",
       "    <tr>\n",
       "      <th>0</th>\n",
       "      <td>63.027818</td>\n",
       "      <td>22.552586</td>\n",
       "      <td>39.609117</td>\n",
       "      <td>40.475232</td>\n",
       "      <td>98.672917</td>\n",
       "      <td>-0.254400</td>\n",
       "      <td>0.744503</td>\n",
       "      <td>12.5661</td>\n",
       "      <td>14.5386</td>\n",
       "      <td>15.30468</td>\n",
       "      <td>-28.658501</td>\n",
       "      <td>43.5123</td>\n",
       "      <td>Abnormal</td>\n",
       "      <td>NaN</td>\n",
       "    </tr>\n",
       "    <tr>\n",
       "      <th>1</th>\n",
       "      <td>39.056951</td>\n",
       "      <td>10.060991</td>\n",
       "      <td>25.015378</td>\n",
       "      <td>28.995960</td>\n",
       "      <td>114.405425</td>\n",
       "      <td>4.564259</td>\n",
       "      <td>0.415186</td>\n",
       "      <td>12.8874</td>\n",
       "      <td>17.5323</td>\n",
       "      <td>16.78486</td>\n",
       "      <td>-25.530607</td>\n",
       "      <td>16.1102</td>\n",
       "      <td>Abnormal</td>\n",
       "      <td>NaN</td>\n",
       "    </tr>\n",
       "    <tr>\n",
       "      <th>2</th>\n",
       "      <td>68.832021</td>\n",
       "      <td>22.218482</td>\n",
       "      <td>50.092194</td>\n",
       "      <td>46.613539</td>\n",
       "      <td>105.985135</td>\n",
       "      <td>-3.530317</td>\n",
       "      <td>0.474889</td>\n",
       "      <td>26.8343</td>\n",
       "      <td>17.4861</td>\n",
       "      <td>16.65897</td>\n",
       "      <td>-29.031888</td>\n",
       "      <td>19.2221</td>\n",
       "      <td>Abnormal</td>\n",
       "      <td>Prediction is done by using binary classificat...</td>\n",
       "    </tr>\n",
       "    <tr>\n",
       "      <th>3</th>\n",
       "      <td>69.297008</td>\n",
       "      <td>24.652878</td>\n",
       "      <td>44.311238</td>\n",
       "      <td>44.644130</td>\n",
       "      <td>101.868495</td>\n",
       "      <td>11.211523</td>\n",
       "      <td>0.369345</td>\n",
       "      <td>23.5603</td>\n",
       "      <td>12.7074</td>\n",
       "      <td>11.42447</td>\n",
       "      <td>-30.470246</td>\n",
       "      <td>18.8329</td>\n",
       "      <td>Abnormal</td>\n",
       "      <td>NaN</td>\n",
       "    </tr>\n",
       "    <tr>\n",
       "      <th>4</th>\n",
       "      <td>49.712859</td>\n",
       "      <td>9.652075</td>\n",
       "      <td>28.317406</td>\n",
       "      <td>40.060784</td>\n",
       "      <td>108.168725</td>\n",
       "      <td>7.918501</td>\n",
       "      <td>0.543360</td>\n",
       "      <td>35.4940</td>\n",
       "      <td>15.9546</td>\n",
       "      <td>8.87237</td>\n",
       "      <td>-16.378376</td>\n",
       "      <td>24.9171</td>\n",
       "      <td>Abnormal</td>\n",
       "      <td>NaN</td>\n",
       "    </tr>\n",
       "  </tbody>\n",
       "</table>\n",
       "</div>"
      ],
      "text/plain": [
       "        Col1       Col2       Col3       Col4        Col5       Col6  \\\n",
       "0  63.027818  22.552586  39.609117  40.475232   98.672917  -0.254400   \n",
       "1  39.056951  10.060991  25.015378  28.995960  114.405425   4.564259   \n",
       "2  68.832021  22.218482  50.092194  46.613539  105.985135  -3.530317   \n",
       "3  69.297008  24.652878  44.311238  44.644130  101.868495  11.211523   \n",
       "4  49.712859   9.652075  28.317406  40.060784  108.168725   7.918501   \n",
       "\n",
       "       Col7     Col8     Col9     Col10      Col11    Col12 Class_att  \\\n",
       "0  0.744503  12.5661  14.5386  15.30468 -28.658501  43.5123  Abnormal   \n",
       "1  0.415186  12.8874  17.5323  16.78486 -25.530607  16.1102  Abnormal   \n",
       "2  0.474889  26.8343  17.4861  16.65897 -29.031888  19.2221  Abnormal   \n",
       "3  0.369345  23.5603  12.7074  11.42447 -30.470246  18.8329  Abnormal   \n",
       "4  0.543360  35.4940  15.9546   8.87237 -16.378376  24.9171  Abnormal   \n",
       "\n",
       "                                         Unnamed: 13  \n",
       "0                                                NaN  \n",
       "1                                                NaN  \n",
       "2  Prediction is done by using binary classificat...  \n",
       "3                                                NaN  \n",
       "4                                                NaN  "
      ]
     },
     "execution_count": 7,
     "metadata": {},
     "output_type": "execute_result"
    }
   ],
   "source": [
    "df = pd.read_csv(\"Dataset_spine.csv\")\n",
    "df.head()"
   ]
  },
  {
   "cell_type": "code",
   "execution_count": 8,
   "id": "d3c0f79d",
   "metadata": {},
   "outputs": [],
   "source": [
    "df['Class_att'] = df['Class_att'].astype('category')\n",
    "encode_map = {\n",
    "    'Abnormal': 1,\n",
    "    'Normal': 0\n",
    "}\n",
    "df['Class_att'].replace(encode_map, inplace=True)\n"
   ]
  },
  {
   "cell_type": "code",
   "execution_count": 9,
   "id": "ca7f4a38",
   "metadata": {},
   "outputs": [],
   "source": [
    "#X = df.iloc[:, 0:-1]\n",
    "#Y = df.iloc[:, -1]\n",
    "X = df.iloc[:,:-2]\n",
    "y = df.iloc[:,-2:-1]"
   ]
  },
  {
   "cell_type": "code",
   "execution_count": 10,
   "id": "6d7d4f8c",
   "metadata": {},
   "outputs": [],
   "source": [
    "from sklearn.preprocessing import StandardScaler \n",
    "from sklearn.model_selection import train_test_split\n",
    "from sklearn.metrics import confusion_matrix, classification_report"
   ]
  },
  {
   "cell_type": "code",
   "execution_count": 11,
   "id": "20da91c8",
   "metadata": {
    "scrolled": true
   },
   "outputs": [
    {
     "data": {
      "text/html": [
       "<div>\n",
       "<style scoped>\n",
       "    .dataframe tbody tr th:only-of-type {\n",
       "        vertical-align: middle;\n",
       "    }\n",
       "\n",
       "    .dataframe tbody tr th {\n",
       "        vertical-align: top;\n",
       "    }\n",
       "\n",
       "    .dataframe thead th {\n",
       "        text-align: right;\n",
       "    }\n",
       "</style>\n",
       "<table border=\"1\" class=\"dataframe\">\n",
       "  <thead>\n",
       "    <tr style=\"text-align: right;\">\n",
       "      <th></th>\n",
       "      <th>Class_att</th>\n",
       "    </tr>\n",
       "  </thead>\n",
       "  <tbody>\n",
       "    <tr>\n",
       "      <th>0</th>\n",
       "      <td>1</td>\n",
       "    </tr>\n",
       "    <tr>\n",
       "      <th>1</th>\n",
       "      <td>1</td>\n",
       "    </tr>\n",
       "    <tr>\n",
       "      <th>2</th>\n",
       "      <td>1</td>\n",
       "    </tr>\n",
       "    <tr>\n",
       "      <th>3</th>\n",
       "      <td>1</td>\n",
       "    </tr>\n",
       "    <tr>\n",
       "      <th>4</th>\n",
       "      <td>1</td>\n",
       "    </tr>\n",
       "    <tr>\n",
       "      <th>...</th>\n",
       "      <td>...</td>\n",
       "    </tr>\n",
       "    <tr>\n",
       "      <th>305</th>\n",
       "      <td>0</td>\n",
       "    </tr>\n",
       "    <tr>\n",
       "      <th>306</th>\n",
       "      <td>0</td>\n",
       "    </tr>\n",
       "    <tr>\n",
       "      <th>307</th>\n",
       "      <td>0</td>\n",
       "    </tr>\n",
       "    <tr>\n",
       "      <th>308</th>\n",
       "      <td>0</td>\n",
       "    </tr>\n",
       "    <tr>\n",
       "      <th>309</th>\n",
       "      <td>0</td>\n",
       "    </tr>\n",
       "  </tbody>\n",
       "</table>\n",
       "<p>310 rows × 1 columns</p>\n",
       "</div>"
      ],
      "text/plain": [
       "     Class_att\n",
       "0            1\n",
       "1            1\n",
       "2            1\n",
       "3            1\n",
       "4            1\n",
       "..         ...\n",
       "305          0\n",
       "306          0\n",
       "307          0\n",
       "308          0\n",
       "309          0\n",
       "\n",
       "[310 rows x 1 columns]"
      ]
     },
     "execution_count": 11,
     "metadata": {},
     "output_type": "execute_result"
    }
   ],
   "source": [
    "y"
   ]
  },
  {
   "cell_type": "code",
   "execution_count": 12,
   "id": "b724e6a6",
   "metadata": {},
   "outputs": [],
   "source": [
    "X_train, X_test, y_train, y_test = train_test_split(\n",
    "   X, y, test_size=0.30, random_state=42)"
   ]
  },
  {
   "cell_type": "code",
   "execution_count": 13,
   "id": "ae38da19",
   "metadata": {},
   "outputs": [],
   "source": [
    "scaler = StandardScaler()\n",
    "X_train = scaler.fit_transform(X_train)\n",
    "X_test = scaler.transform(X_test)"
   ]
  },
  {
   "cell_type": "code",
   "execution_count": 14,
   "id": "ee4ec6de",
   "metadata": {},
   "outputs": [
    {
     "data": {
      "text/plain": [
       "array([[ 1.34035069,  1.35793758,  0.42166448, ...,  1.58214092,\n",
       "        -0.15461603,  0.96496201],\n",
       "       [ 0.85873358, -0.13247947,  0.44263485, ..., -0.44249983,\n",
       "        -1.49194047, -0.87092887],\n",
       "       [ 1.45981359,  1.68684959,  0.57034015, ..., -1.32933217,\n",
       "         1.45963893, -1.17139212],\n",
       "       ...,\n",
       "       [ 0.307192  , -0.75159062,  0.39233738, ..., -0.34335715,\n",
       "         1.62994415,  0.88483911],\n",
       "       [-0.48403745, -0.85285218,  0.3504105 , ..., -0.57905818,\n",
       "         1.56320112,  1.04492339],\n",
       "       [ 0.6181826 , -0.36959627,  0.58972009, ...,  0.15908515,\n",
       "         1.59124747,  0.87422637]])"
      ]
     },
     "execution_count": 14,
     "metadata": {},
     "output_type": "execute_result"
    }
   ],
   "source": [
    "X_train"
   ]
  },
  {
   "cell_type": "code",
   "execution_count": 15,
   "id": "27ac3982",
   "metadata": {},
   "outputs": [],
   "source": [
    "## train data\n",
    "class trainData(Dataset):\n",
    "    \n",
    "    def __init__(self, X_data, y_data):\n",
    "        self.X_data = X_data\n",
    "        self.Y_data = y_data\n",
    "        \n",
    "    def __getitem__(self, index):\n",
    "        return self.X_data[index], self.Y_data[index]\n",
    "        \n",
    "    def __len__ (self):\n",
    "        print(len(self.X_data))\n",
    "        return len(self.X_data)"
   ]
  },
  {
   "cell_type": "code",
   "execution_count": 16,
   "id": "f344a3d5",
   "metadata": {},
   "outputs": [],
   "source": [
    "train_data = trainData(torch.FloatTensor(X_train),torch.FloatTensor(y_train['Class_att'].to_list()))"
   ]
  },
  {
   "cell_type": "code",
   "execution_count": 17,
   "id": "2bf79260",
   "metadata": {},
   "outputs": [
    {
     "data": {
      "text/plain": [
       "(tensor([ 1.3404,  1.3579,  0.4217,  0.7624, -0.6266, -0.4837,  1.2641, -0.9633,\n",
       "         -0.1899,  1.5821, -0.1546,  0.9650]),\n",
       " tensor(0.))"
      ]
     },
     "execution_count": 17,
     "metadata": {},
     "output_type": "execute_result"
    }
   ],
   "source": [
    "train_data[0]"
   ]
  },
  {
   "cell_type": "code",
   "execution_count": 18,
   "id": "1e9e0a1b",
   "metadata": {},
   "outputs": [],
   "source": [
    "class testData(Dataset):\n",
    "    \n",
    "    def __init__(self, X_data):\n",
    "        self.X_data = X_data\n",
    "        \n",
    "    def __getitem__(self, index):\n",
    "        return self.X_data[index]\n",
    "        \n",
    "    def __len__ (self):\n",
    "        return len(self.X_data)\n",
    "    \n",
    "\n",
    "test_data = testData(torch.FloatTensor(X_test))"
   ]
  },
  {
   "cell_type": "code",
   "execution_count": 55,
   "id": "f27831d8",
   "metadata": {},
   "outputs": [
    {
     "name": "stdout",
     "output_type": "stream",
     "text": [
      "217\n",
      "217\n"
     ]
    }
   ],
   "source": [
    "train_loader = DataLoader(dataset=train_data, batch_size=32, shuffle=True)\n",
    "test_loader = DataLoader(dataset=test_data, batch_size=1)"
   ]
  },
  {
   "cell_type": "code",
   "execution_count": 56,
   "id": "4fe78bde",
   "metadata": {},
   "outputs": [],
   "source": [
    "class binaryClassification(nn.Module):\n",
    "    def __init__(self):\n",
    "        super(binaryClassification, self).__init__()\n",
    "        # Number of input features is 12.\n",
    "        self.layer_1 = nn.Linear(12, 64) \n",
    "        self.layer_2 = nn.Linear(64, 64)\n",
    "        self.layer_out = nn.Linear(64, 1) \n",
    "        \n",
    "        self.relu = nn.ReLU()\n",
    "        self.dropout = nn.Dropout(p=0.1)\n",
    "        self.batchnorm1 = nn.BatchNorm1d(64)\n",
    "        self.batchnorm2 = nn.BatchNorm1d(64)\n",
    "        \n",
    "    def forward(self, inputs):\n",
    "        x = self.relu(self.layer_1(inputs))\n",
    "        x = self.batchnorm1(x)\n",
    "        x = self.relu(self.layer_2(x))\n",
    "        x = self.batchnorm2(x)\n",
    "        x = self.dropout(x)\n",
    "        x = self.layer_out(x)\n",
    "        \n",
    "        return x"
   ]
  },
  {
   "cell_type": "code",
   "execution_count": 57,
   "id": "32b5d889",
   "metadata": {},
   "outputs": [],
   "source": [
    "device = torch.device(\"cuda:0\" if torch.cuda.is_available() else \"cpu\")"
   ]
  },
  {
   "cell_type": "code",
   "execution_count": 58,
   "id": "92cc04b3",
   "metadata": {},
   "outputs": [
    {
     "name": "stdout",
     "output_type": "stream",
     "text": [
      "binaryClassification(\n",
      "  (layer_1): Linear(in_features=12, out_features=64, bias=True)\n",
      "  (layer_2): Linear(in_features=64, out_features=64, bias=True)\n",
      "  (layer_out): Linear(in_features=64, out_features=1, bias=True)\n",
      "  (relu): ReLU()\n",
      "  (dropout): Dropout(p=0.1, inplace=False)\n",
      "  (batchnorm1): BatchNorm1d(64, eps=1e-05, momentum=0.1, affine=True, track_running_stats=True)\n",
      "  (batchnorm2): BatchNorm1d(64, eps=1e-05, momentum=0.1, affine=True, track_running_stats=True)\n",
      ")\n"
     ]
    }
   ],
   "source": [
    "model = binaryClassification()\n",
    "model.to(device)\n",
    "print(model)"
   ]
  },
  {
   "cell_type": "code",
   "execution_count": 59,
   "id": "9cd11290",
   "metadata": {},
   "outputs": [],
   "source": [
    "LEARNING_RATE = 0.01\n",
    "EPOCHS=200"
   ]
  },
  {
   "cell_type": "code",
   "execution_count": 60,
   "id": "43b2646b",
   "metadata": {
    "scrolled": true
   },
   "outputs": [],
   "source": [
    "criterion = nn.BCEWithLogitsLoss()\n",
    "optimizer = optim.Adam(model.parameters(), lr=LEARNING_RATE)\n",
    " "
   ]
  },
  {
   "cell_type": "code",
   "execution_count": 61,
   "id": "5be98d61",
   "metadata": {},
   "outputs": [],
   "source": [
    "def binary_acc(y_pred, y_test):\n",
    "    y_pred_tag = torch.round(torch.sigmoid(y_pred))\n",
    "\n",
    "    correct_results_sum = (y_pred_tag == y_test).sum().float()\n",
    "    acc = correct_results_sum/y_test.shape[0]\n",
    "    acc = torch.round(acc * 100)\n",
    "    \n",
    "    return acc"
   ]
  },
  {
   "cell_type": "code",
   "execution_count": 62,
   "id": "898c1135",
   "metadata": {},
   "outputs": [
    {
     "name": "stdout",
     "output_type": "stream",
     "text": [
      "217\n",
      "217\n",
      "217\n",
      "217\n",
      "217\n",
      "217\n",
      "217\n",
      "217\n",
      "217\n",
      "217\n",
      "217\n",
      "217\n",
      "217\n",
      "217\n",
      "217\n",
      "217\n",
      "217\n",
      "217\n",
      "217\n",
      "217\n",
      "217\n",
      "217\n",
      "217\n",
      "217\n",
      "217\n",
      "217\n",
      "217\n",
      "217\n",
      "217\n",
      "217\n",
      "217\n",
      "217\n",
      "217\n",
      "217\n",
      "217\n",
      "217\n",
      "217\n",
      "217\n",
      "217\n",
      "217\n",
      "217\n",
      "217\n",
      "217\n",
      "217\n",
      "217\n",
      "217\n",
      "217\n",
      "217\n",
      "217\n",
      "217\n",
      "217\n",
      "217\n",
      "217\n",
      "217\n",
      "217\n",
      "217\n",
      "217\n",
      "217\n",
      "217\n",
      "217\n",
      "217\n",
      "217\n",
      "217\n",
      "217\n",
      "217\n",
      "217\n",
      "217\n",
      "217\n",
      "217\n",
      "217\n",
      "217\n",
      "217\n",
      "217\n",
      "217\n",
      "217\n",
      "217\n",
      "217\n",
      "217\n",
      "217\n",
      "217\n",
      "217\n",
      "217\n",
      "217\n",
      "217\n",
      "217\n",
      "217\n",
      "217\n",
      "217\n",
      "217\n",
      "217\n",
      "217\n",
      "217\n",
      "217\n",
      "217\n",
      "217\n",
      "217\n",
      "217\n",
      "217\n",
      "217\n",
      "217\n",
      "217\n",
      "217\n",
      "217\n",
      "217\n",
      "217\n",
      "217\n",
      "217\n",
      "217\n",
      "217\n",
      "217\n",
      "217\n",
      "217\n",
      "217\n",
      "217\n",
      "217\n",
      "217\n",
      "217\n",
      "217\n",
      "217\n",
      "217\n",
      "217\n",
      "217\n",
      "217\n",
      "217\n",
      "217\n",
      "217\n",
      "217\n",
      "217\n",
      "217\n",
      "217\n",
      "217\n",
      "217\n",
      "217\n",
      "217\n",
      "217\n",
      "217\n",
      "217\n",
      "217\n",
      "217\n",
      "217\n",
      "217\n",
      "217\n",
      "217\n",
      "217\n",
      "217\n",
      "217\n",
      "217\n",
      "217\n",
      "217\n",
      "217\n",
      "217\n",
      "217\n",
      "217\n",
      "217\n",
      "217\n",
      "217\n",
      "217\n",
      "217\n",
      "217\n",
      "217\n",
      "217\n",
      "217\n",
      "217\n",
      "217\n",
      "217\n",
      "217\n",
      "217\n",
      "217\n",
      "217\n",
      "217\n",
      "217\n",
      "217\n",
      "217\n",
      "217\n",
      "217\n",
      "217\n",
      "217\n",
      "217\n",
      "217\n",
      "217\n",
      "217\n",
      "217\n",
      "217\n",
      "217\n",
      "217\n",
      "217\n",
      "217\n",
      "217\n",
      "217\n",
      "217\n",
      "217\n",
      "217\n",
      "217\n",
      "217\n",
      "217\n",
      "217\n",
      "217\n",
      "217\n",
      "217\n",
      "217\n"
     ]
    }
   ],
   "source": [
    "model.train()\n",
    "for e in range(1, EPOCHS+1):\n",
    "    epoch_loss = 0\n",
    "    epoch_acc = 0\n",
    "    for X_batch, y_batch in train_loader:\n",
    "        X_batch, y_batch = X_batch.to(device), y_batch.to(device)\n",
    "        optimizer.zero_grad()\n",
    "        \n",
    "        y_pred = model(X_batch)\n",
    "        \n",
    "        loss = criterion(y_pred, y_batch.unsqueeze(1))\n",
    "        acc = binary_acc(y_pred, y_batch.unsqueeze(1))\n",
    "        \n",
    "        loss.backward()\n",
    "        optimizer.step()\n",
    "        \n",
    "        epoch_loss += loss.item()\n",
    "        epoch_acc += acc.item()\n",
    "        "
   ]
  },
  {
   "cell_type": "code",
   "execution_count": 63,
   "id": "e10fab99",
   "metadata": {
    "scrolled": true
   },
   "outputs": [
    {
     "name": "stdout",
     "output_type": "stream",
     "text": [
      "217\n",
      "217\n",
      "Epoch 200: | Loss: 0.06314 | Acc: 99.143\n"
     ]
    }
   ],
   "source": [
    "   print(f'Epoch {e+0:03}: | Loss: {epoch_loss/len(train_loader):.5f} | Acc: {epoch_acc/len(train_loader):.3f}')"
   ]
  },
  {
   "cell_type": "code",
   "execution_count": 64,
   "id": "077a12e3",
   "metadata": {},
   "outputs": [],
   "source": [
    "y_pred_list = []\n",
    "model.eval()\n",
    "with torch.no_grad():\n",
    "    for X_batch in test_loader:\n",
    "        X_batch = X_batch.to(device)\n",
    "        y_test_pred = model(X_batch)\n",
    "        y_test_pred = torch.sigmoid(y_test_pred)\n",
    "        y_pred_tag = torch.round(y_test_pred)\n",
    "        y_pred_list.append(y_pred_tag.cpu().numpy())\n",
    "\n",
    "y_pred_list = [a.squeeze().tolist() for a in y_pred_list]"
   ]
  },
  {
   "cell_type": "code",
   "execution_count": 65,
   "id": "c44a7fac",
   "metadata": {},
   "outputs": [
    {
     "name": "stdout",
     "output_type": "stream",
     "text": [
      "              precision    recall  f1-score   support\n",
      "\n",
      "           0       0.76      0.67      0.71        24\n",
      "           1       0.89      0.93      0.91        69\n",
      "\n",
      "    accuracy                           0.86        93\n",
      "   macro avg       0.83      0.80      0.81        93\n",
      "weighted avg       0.86      0.86      0.86        93\n",
      "\n"
     ]
    }
   ],
   "source": [
    "print(classification_report(y_test, y_pred_list))"
   ]
  },
  {
   "cell_type": "code",
   "execution_count": null,
   "id": "d509fb3b",
   "metadata": {},
   "outputs": [],
   "source": []
  },
  {
   "cell_type": "code",
   "execution_count": null,
   "id": "e682ac4f",
   "metadata": {},
   "outputs": [],
   "source": []
  }
 ],
 "metadata": {
  "kernelspec": {
   "display_name": "Python 3",
   "language": "python",
   "name": "python3"
  },
  "language_info": {
   "codemirror_mode": {
    "name": "ipython",
    "version": 3
   },
   "file_extension": ".py",
   "mimetype": "text/x-python",
   "name": "python",
   "nbconvert_exporter": "python",
   "pygments_lexer": "ipython3",
   "version": "3.6.9"
  }
 },
 "nbformat": 4,
 "nbformat_minor": 5
}
